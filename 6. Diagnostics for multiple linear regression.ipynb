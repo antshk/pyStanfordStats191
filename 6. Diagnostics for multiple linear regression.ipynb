{
 "cells": [
  {
   "cell_type": "markdown",
   "metadata": {},
   "source": [
    "## Diagnostics in multiple linear regression"
   ]
  },
  {
   "cell_type": "code",
   "execution_count": 20,
   "metadata": {
    "collapsed": true
   },
   "outputs": [],
   "source": [
    "import pandas as pd\n",
    "import seaborn as sns\n",
    "import matplotlib.pyplot as plt"
   ]
  },
  {
   "cell_type": "markdown",
   "metadata": {},
   "source": [
    "### Outline\n",
    "\n",
    "-   Diagnostics - again\n",
    "\n",
    "-   Different types of residuals\n",
    "\n",
    "-   Influence\n",
    "\n",
    "-   Outlier detection\n",
    "\n",
    "-   Residual plots:\n",
    "\n",
    "    -   partial regression (added variable) plot,\n",
    "\n",
    "    -   partial residual (residual plus component) plot."
   ]
  },
  {
   "cell_type": "markdown",
   "metadata": {},
   "source": [
    "## Scottish hill races data\n",
    "\n",
    "The dataset we will use is based on record times on [Scottish hill races](http://www.statsci.org/data/general/hills.html).\n",
    "\n",
    "<table>\n",
    "<tr><td><b>Variable</b></td><td><b>Description</b></td></tr>\n",
    "<tr><td>Time</td><td>Record time to complete course</td></tr>\n",
    "<tr><td>Distance</td><td>Distance in the course</td></tr>\n",
    "<tr><td>Climb</td><td>Vertical climb in the course</td></tr>\n",
    "</table>"
   ]
  },
  {
   "cell_type": "code",
   "execution_count": 15,
   "metadata": {},
   "outputs": [
    {
     "data": {
      "text/html": [
       "<div>\n",
       "<style>\n",
       "    .dataframe thead tr:only-child th {\n",
       "        text-align: right;\n",
       "    }\n",
       "\n",
       "    .dataframe thead th {\n",
       "        text-align: left;\n",
       "    }\n",
       "\n",
       "    .dataframe tbody tr th {\n",
       "        vertical-align: top;\n",
       "    }\n",
       "</style>\n",
       "<table border=\"1\" class=\"dataframe\">\n",
       "  <thead>\n",
       "    <tr style=\"text-align: right;\">\n",
       "      <th></th>\n",
       "      <th>Race</th>\n",
       "      <th>Distance</th>\n",
       "      <th>Climb</th>\n",
       "      <th>Time</th>\n",
       "    </tr>\n",
       "  </thead>\n",
       "  <tbody>\n",
       "    <tr>\n",
       "      <th>0</th>\n",
       "      <td>Greenmantle</td>\n",
       "      <td>2.5</td>\n",
       "      <td>650</td>\n",
       "      <td>16.083</td>\n",
       "    </tr>\n",
       "    <tr>\n",
       "      <th>1</th>\n",
       "      <td>Carnethy</td>\n",
       "      <td>6.0</td>\n",
       "      <td>2500</td>\n",
       "      <td>48.350</td>\n",
       "    </tr>\n",
       "    <tr>\n",
       "      <th>2</th>\n",
       "      <td>CraigDunain</td>\n",
       "      <td>6.0</td>\n",
       "      <td>900</td>\n",
       "      <td>33.650</td>\n",
       "    </tr>\n",
       "    <tr>\n",
       "      <th>3</th>\n",
       "      <td>BenRha</td>\n",
       "      <td>7.5</td>\n",
       "      <td>800</td>\n",
       "      <td>45.600</td>\n",
       "    </tr>\n",
       "    <tr>\n",
       "      <th>4</th>\n",
       "      <td>BenLomond</td>\n",
       "      <td>8.0</td>\n",
       "      <td>3070</td>\n",
       "      <td>62.267</td>\n",
       "    </tr>\n",
       "  </tbody>\n",
       "</table>\n",
       "</div>"
      ],
      "text/plain": [
       "          Race  Distance  Climb    Time\n",
       "0  Greenmantle       2.5    650  16.083\n",
       "1     Carnethy       6.0   2500  48.350\n",
       "2  CraigDunain       6.0    900  33.650\n",
       "3       BenRha       7.5    800  45.600\n",
       "4    BenLomond       8.0   3070  62.267"
      ]
     },
     "execution_count": 15,
     "metadata": {},
     "output_type": "execute_result"
    }
   ],
   "source": [
    "url = 'http://www.statsci.org/data/general/hills.txt' \n",
    "races_table = pd.read_table(url, sep='\\t')\n",
    "\n",
    "#if the link is broken\n",
    "#races_table2=pd.read_table(r'./data/06_hill_races.csv')\n",
    "\n",
    "races_table.head()"
   ]
  },
  {
   "cell_type": "markdown",
   "metadata": {},
   "source": [
    "As we'd expect, the time increases both with Distance and Climb."
   ]
  },
  {
   "cell_type": "code",
   "execution_count": 22,
   "metadata": {},
   "outputs": [
    {
     "data": {
      "image/png": "[encoded data removed]",
      "text/plain": [
       "<matplotlib.figure.Figure at 0x7ff815eb2940>"
      ]
     },
     "metadata": {},
     "output_type": "display_data"
    }
   ],
   "source": [
    "sns.pairplot(races_table, vars=[\"Distance\", \"Climb\", \"Time\"])\n",
    "plt.show()"
   ]
  },
  {
   "cell_type": "markdown",
   "metadata": {},
   "source": [
    "Let's look at our multiple regression model."
   ]
  },
  {
   "cell_type": "code",
   "execution_count": null,
   "metadata": {
    "collapsed": true
   },
   "outputs": [],
   "source": []
  }
 ],
 "metadata": {
  "kernelspec": {
   "display_name": "Python 3",
   "language": "python",
   "name": "python3"
  },
  "language_info": {
   "codemirror_mode": {
    "name": "ipython",
    "version": 3
   },
   "file_extension": ".py",
   "mimetype": "text/x-python",
   "name": "python",
   "nbconvert_exporter": "python",
   "pygments_lexer": "ipython3",
   "version": "3.6.2"
  }
 },
 "nbformat": 4,
 "nbformat_minor": 2
}
