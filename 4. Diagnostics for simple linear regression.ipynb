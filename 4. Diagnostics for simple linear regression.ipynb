{
 "cells": [
  {
   "cell_type": "markdown",
   "metadata": {},
   "source": [
    "# Diagnostics for simple linear regression\n",
    "\n",
    "* Goodness of fit of regression: analysis of variance.\n",
    "* $F$-statistics.\n",
    "* Residuals.\n",
    "* Diagnostic plots."
   ]
  },
  {
   "cell_type": "code",
   "execution_count": 1,
   "metadata": {},
   "outputs": [
    {
     "name": "stderr",
     "output_type": "stream",
     "text": [
      "C:\\Anaconda3\\lib\\site-packages\\statsmodels\\compat\\pandas.py:56: FutureWarning: The pandas.core.datetools module is deprecated and will be removed in a future version. Please use the pandas.tseries module instead.\n",
      "  from pandas.core import datetools\n"
     ]
    }
   ],
   "source": [
    "import pandas as pd\n",
    "import numpy as np\n",
    "import scipy as sp\n",
    "\n",
    "import matplotlib.pyplot as plt\n",
    "\n",
    "import statsmodels.formula.api as smf\n",
    "import statsmodels.api as sm"
   ]
  },
  {
   "cell_type": "markdown",
   "metadata": {},
   "source": [
    "## Geometry of least squares\n",
    "\n",
    "Here are three pictures that help to describe different models we might fit."
   ]
  },
  {
   "cell_type": "markdown",
   "metadata": {},
   "source": [
    "### The full model\n",
    "\n",
    "<img src=\"http://stats191.stanford.edu/figs/axes_simple_full.svg\" width=\"800\">\n",
    "\n",
    "\n",
    "### The full model\n",
    "\n",
    "* This picture is meant to depict the regression model\n",
    "$$\n",
    "Y = \\beta_0 \\cdot 1 + \\beta_1 \\cdot X + \\epsilon.\n",
    "$$\n",
    "\n",
    "* The $\\beta_0$ coefficient represents movement along the horizontal axis above, labelled $\\pmb{1}$.\n",
    "\n",
    "* The $\\beta_1$ coefficient represents movement along the axis $X$ above.\n",
    "\n",
    "* The vector $\\hat{Y}$ is the vector of fitted values in the above model."
   ]
  },
  {
   "cell_type": "markdown",
   "metadata": {},
   "source": [
    "### The reduced model\n",
    "\n",
    "<img src=\"http://stats191.stanford.edu/figs/axes_simple_reduced.svg\" width=\"800\">\n",
    "\n",
    "### The reduced model\n",
    "\n",
    "* This picture is meant to depict the regression model\n",
    "$$\n",
    "Y = \\beta_0 \\cdot 1 + \\epsilon.\n",
    "$$\n",
    "\n",
    "* The $\\beta_0$ coefficient represents movement along the horizontal axis above, labelled $\\pmb{1}$.\n",
    "\n",
    "* Since $\\beta_1=0$, we have assumed there is no movement along the $X$ axis.\n",
    "\n",
    "* The vector $\\bar{Y} \\cdot 1$ is the vector of fitted values in the above model."
   ]
  },
  {
   "cell_type": "markdown",
   "metadata": {},
   "source": [
    "### Both models together\n",
    "\n",
    "<img src=\"http://stats191.stanford.edu/figs/axes_simple.svg\" width=\"600\"> \n",
    "\n",
    "* The above picture tries to capture both models in one image.\n",
    "\n",
    "* There is a new vector: $\\hat{Y} - \\bar{Y} \\cdot \\pmb{1}$. This vector is the difference in fits between the two\n",
    "previous models."
   ]
  },
  {
   "cell_type": "markdown",
   "metadata": {},
   "source": [
    "## Goodness of fit\n",
    "\n",
    "* The closer $\\hat{Y}$ is to the ${1}$ axis, the less \"variation\" there is along the $X$ axis. \n",
    "\n",
    "* This closeness can be measured by the length of the vector $\\hat{Y}-\\bar{Y} \\cdot 1$.\n",
    "\n",
    "* The square of a vector's length is the sum of its elements squared. These quantities\n",
    "are usually referred to as *sums of squares*."
   ]
  },
  {
   "cell_type": "markdown",
   "metadata": {},
   "source": [
    "### Sums of squares\n",
    "\n",
    "$$\n",
    "\\begin{aligned}\n",
    "   SSE &= \\sum_{i=1}^n(Y_i - \\widehat{Y}_i)^2 = \\sum_{i=1}^n (Y_i - \\widehat{\\beta}_0 - \\widehat{\\beta}_1 X_i)^2 \\\\\n",
    "   SSR &= \\sum_{i=1}^n(\\overline{Y} - \\widehat{Y}_i)^2 = \\sum_{i=1}^n (\\overline{Y} - \\widehat{\\beta}_0 - \\widehat{\\beta}_1 X_i)^2 \\\\\n",
    "   SST &= \\sum_{i=1}^n(Y_i - \\overline{Y})^2 = SSE + SSR \\\\\n",
    "   R^2 &= \\frac{SSR}{SST} = 1 - \\frac{SSE}{SST} = \\widehat{Cor}(\\pmb{X},\\pmb{Y})^2.\n",
    "   \\end{aligned}\n",
    "$$\n",
    "\n",
    "\n",
    "\n",
    "* The quantity $SSE$, or *error sum of squares*, is the squared length of the vector $Y -  \\hat{Y}$ which protrudes perpendicular to the $X-1$ plane.\n",
    "\n",
    "* The quantity $SSR$, or *regression sum of squares*, is the length of the vector $\\hat{Y} - \\bar{Y} \\cdot 1$.\n",
    "\n",
    "* The quantity $SST$, or *total sum of squares*, is the length of the vector $Y - \\bar{Y} \\cdot 1$.\n",
    "\n",
    "* The quantity $R^2$ is a measure of the goodness of fit of the simple linear regression model. Values near 1 indicate\n",
    "much of the total variability in $Y$ is explained by the regression model."
   ]
  },
  {
   "cell_type": "markdown",
   "metadata": {},
   "source": [
    "### Mean squares\n",
    "\n",
    "* Each sum of squares gets an extra bit of information associated to them, called their *degrees of freedom*.\n",
    "\n",
    "* Roughly speaking, the *degrees of freedom* can be determined by dimension counting.\n",
    "\n",
    "\n",
    "$$\n",
    "\\begin{aligned}\n",
    "   MSE &= \\frac{1}{n-2}\\sum_{i=1}^n(Y_i - \\widehat{Y}_i)^2 \\\\\n",
    "   MSR &= \\sum_{i=1}^n(\\overline{Y} - \\widehat{Y}_i)^2 \\\\\n",
    "   MST &= \\frac{1}{n-1}\\sum_{i=1}^n(Y_i - \\overline{Y})^2 \\\\\n",
    "   \\end{aligned}\n",
    "$$"
   ]
  },
  {
   "cell_type": "markdown",
   "metadata": {},
   "source": [
    "### Mean squares\n",
    "\n",
    "* The $SSE$ has $n-2$ degrees of freedom  because it is the squared length of a vector that lies in $n-2$ dimensions. To see this, note that it is\n",
    "perpendicular to the 2-dimensional plane formed by the $X$ axis and the $1$ axis.\n",
    "\n",
    "* The $SST$ has $n-1$ degrees of freedom because it is the squared length of a vector that lies in $n-1$ dimensions. In this case, this vector is perpendicular to the $1$ axis.\n",
    "\n",
    "* The $SSR$ has 1 degree of freedom because it is the squared length of a vector that lies in the 2-dimensional plane but is perpendicular to the $1$ axis."
   ]
  },
  {
   "cell_type": "markdown",
   "metadata": {},
   "source": [
    "### A different visualization\n",
    "\n",
    "These sums of squares can be visualized by other means as well. We will illustrate with a synthetic dataset."
   ]
  },
  {
   "cell_type": "code",
   "execution_count": 119,
   "metadata": {},
   "outputs": [
    {
     "data": {
      "image/png": "[encoded data removed]",
      "text/plain": [
       "<matplotlib.figure.Figure at 0xd40a898>"
      ]
     },
     "metadata": {},
     "output_type": "display_data"
    }
   ],
   "source": [
    "X = np.arange(0, 21)\n",
    "Y = 0.5 * X + 1 + sp.random.normal(size=21)\n",
    "\n",
    "XC = sm.add_constant(X)\n",
    "lm = sm.OLS(Y, XC).fit()\n",
    "\n",
    "Ymean = Y.mean()\n",
    "Ymeans = np.full_like(X,Ymean)\n",
    "Yhat = lm.predict()\n",
    "\n",
    "plt.scatter(X,Y)\n",
    "plt.show()"
   ]
  },
  {
   "cell_type": "markdown",
   "metadata": {},
   "source": [
    "The total sum of squares, $SST$, is the sum of the squared differences between the *Y* values and the sample mean of the *Y*\n",
    "values."
   ]
  },
  {
   "cell_type": "code",
   "execution_count": 6,
   "metadata": {},
   "outputs": [
    {
     "data": {
      "image/png": "[encoded data removed]",
      "text/plain": [
       "<matplotlib.figure.Figure at 0xc309358>"
      ]
     },
     "metadata": {},
     "output_type": "display_data"
    }
   ],
   "source": [
    "plt.scatter(X, Y,label='original')\n",
    "plt.plot(X, Yhat, color='red',label='fit')\n",
    "plt.plot(X,Ymeans, color='darkorange',marker='d',label='mean')\n",
    "\n",
    "plt.plot(np.vstack((X,X)),np.vstack((Y,Ymeans)),color='lightgray',linestyle='-' )\n",
    "\n",
    "plt.gca().set_title('Total sum of squares')\n",
    "plt.legend()\n",
    "plt.show()"
   ]
  },
  {
   "cell_type": "markdown",
   "metadata": {},
   "source": [
    "The error sum of squares, $SSE$, is the sum of the squared differences between the $Y$ values and the $\\hat{Y}$ values, i.e. the fitted values of the regression model."
   ]
  },
  {
   "cell_type": "code",
   "execution_count": 7,
   "metadata": {},
   "outputs": [
    {
     "data": {
      "image/png": "[encoded data removed]",
      "text/plain": [
       "<matplotlib.figure.Figure at 0xc44f438>"
      ]
     },
     "metadata": {},
     "output_type": "display_data"
    }
   ],
   "source": [
    "import matplotlib.lines as mlines\n",
    "\n",
    "gray_line = mlines.Line2D([], [], color='lightgray', label='summands')\n",
    "\n",
    "plt.scatter(X, Y,label='original')\n",
    "plt.plot(X, Yhat, color='red',marker='d',label='fit')\n",
    "plt.plot(X,Ymeans, color='darkorange',label='mean')\n",
    "\n",
    "plt.plot(np.vstack((X,X)),np.vstack((Y,Yhat)),color='lightgray',linestyle='-' )\n",
    "\n",
    "ax=plt.gca()\n",
    "ax.set_title('Error sum of squares')\n",
    "\n",
    "#summands have to be added manually to te\n",
    "l=list(ax.get_legend_handles_labels())\n",
    "l[0].append(gray_line)\n",
    "l[1].append('summands')\n",
    "\n",
    "ax.legend(*l)\n",
    "\n",
    "plt.show()"
   ]
  },
  {
   "cell_type": "markdown",
   "metadata": {},
   "source": [
    "Finally, the regression sum of squares, $SSR$ is the sum of the squared differences between the $\\hat{Y}$ values and the sample mean of the $Y$ values."
   ]
  },
  {
   "cell_type": "code",
   "execution_count": 8,
   "metadata": {},
   "outputs": [
    {
     "data": {
      "image/png": "[encoded data removed]",
      "text/plain": [
       "<matplotlib.figure.Figure at 0xc261c50>"
      ]
     },
     "metadata": {},
     "output_type": "display_data"
    }
   ],
   "source": [
    "import matplotlib.lines as mlines\n",
    "\n",
    "gray_line = mlines.Line2D([], [], color='lightgray', label='summands')\n",
    "\n",
    "plt.scatter(X, Y,label='original')\n",
    "plt.plot(X, Yhat, color='red',marker='d',label='fit')\n",
    "plt.plot(X,Ymeans, color='darkorange',marker='d',label='mean')\n",
    "\n",
    "plt.plot(np.vstack((X,X)),np.vstack((Ymeans,Yhat)),color='lightgray',linestyle='-' )\n",
    "\n",
    "ax=plt.gca()\n",
    "ax.set_title('Regression sum of squares')\n",
    "\n",
    "#summands have to be added manually to te\n",
    "l=list(ax.get_legend_handles_labels())\n",
    "l[0].append(gray_line)\n",
    "l[1].append('summands')\n",
    "\n",
    "ax.legend(*l)\n",
    "\n",
    "plt.show()"
   ]
  },
  {
   "cell_type": "markdown",
   "metadata": {},
   "source": [
    "## Definition of $R^2$\n",
    "\n",
    "As noted above, if the regression model fits very well, then $SSR$ will be large relative to $SST$. The $R^2$ score is just the ratio of these sums of squares.\n",
    "\n",
    "We'll verify this on the `wages` data."
   ]
  },
  {
   "cell_type": "code",
   "execution_count": 9,
   "metadata": {
    "collapsed": true
   },
   "outputs": [],
   "source": [
    "url = r\"http://stats191.stanford.edu/data/wage.csv\"\n",
    "wages = pd.read_table(url, sep = \",\")\n",
    "wageslm = smf.ols(\"logwage ~ education\", data=wages).fit()"
   ]
  },
  {
   "cell_type": "markdown",
   "metadata": {},
   "source": [
    "Let's verify our claim $SST=SSE+SSR$:"
   ]
  },
  {
   "cell_type": "code",
   "execution_count": 118,
   "metadata": {
    "scrolled": true
   },
   "outputs": [
    {
     "name": "stdout",
     "output_type": "stream",
     "text": [
      "SST 410.215, SSE + SSR 410.215\n"
     ]
    }
   ],
   "source": [
    "SSE = (  wageslm.resid**2).sum()\n",
    "SST = ( (wages.logwage - wages.logwage.mean())**2).sum()\n",
    "SSR = ( (wages.logwage.mean() - wageslm.predict() )**2).sum()\n",
    "print(f\"SST {SST:1.3f}, SSE + SSR {SSE+SSR:1.3f}\")"
   ]
  },
  {
   "cell_type": "markdown",
   "metadata": {},
   "source": [
    "The $R^2$ is also closely related to the $F$ statistic reported as the goodness of fit in *summary* of *lm*."
   ]
  },
  {
   "cell_type": "code",
   "execution_count": 11,
   "metadata": {},
   "outputs": [
    {
     "name": "stdout",
     "output_type": "stream",
     "text": [
      "340.02969187\n"
     ]
    }
   ],
   "source": [
    "F = (SSR / 1) / (SSE / wageslm.df_resid)\n",
    "print(F)"
   ]
  },
  {
   "cell_type": "markdown",
   "metadata": {},
   "source": [
    "Compare this to the `F-statistic` output:"
   ]
  },
  {
   "cell_type": "code",
   "execution_count": 12,
   "metadata": {},
   "outputs": [
    {
     "data": {
      "text/html": [
       "<table class=\"simpletable\">\n",
       "<caption>OLS Regression Results</caption>\n",
       "<tr>\n",
       "  <th>Dep. Variable:</th>         <td>logwage</td>     <th>  R-squared:         </th> <td>   0.135</td>\n",
       "</tr>\n",
       "<tr>\n",
       "  <th>Model:</th>                   <td>OLS</td>       <th>  Adj. R-squared:    </th> <td>   0.135</td>\n",
       "</tr>\n",
       "<tr>\n",
       "  <th>Method:</th>             <td>Least Squares</td>  <th>  F-statistic:       </th> <td>   340.0</td>\n",
       "</tr>\n",
       "<tr>\n",
       "  <th>Date:</th>             <td>Sat, 06 Jan 2018</td> <th>  Prob (F-statistic):</th> <td>1.15e-70</td>\n",
       "</tr>\n",
       "<tr>\n",
       "  <th>Time:</th>                 <td>20:21:52</td>     <th>  Log-Likelihood:    </th> <td> -1114.3</td>\n",
       "</tr>\n",
       "<tr>\n",
       "  <th>No. Observations:</th>      <td>  2178</td>      <th>  AIC:               </th> <td>   2233.</td>\n",
       "</tr>\n",
       "<tr>\n",
       "  <th>Df Residuals:</th>          <td>  2176</td>      <th>  BIC:               </th> <td>   2244.</td>\n",
       "</tr>\n",
       "<tr>\n",
       "  <th>Df Model:</th>              <td>     1</td>      <th>                     </th>     <td> </td>   \n",
       "</tr>\n",
       "<tr>\n",
       "  <th>Covariance Type:</th>      <td>nonrobust</td>    <th>                     </th>     <td> </td>   \n",
       "</tr>\n",
       "</table>\n",
       "<table class=\"simpletable\">\n",
       "<tr>\n",
       "      <td></td>         <th>coef</th>     <th>std err</th>      <th>t</th>      <th>P>|t|</th>  <th>[0.025</th>    <th>0.975]</th>  \n",
       "</tr>\n",
       "<tr>\n",
       "  <th>Intercept</th> <td>    1.2392</td> <td>    0.055</td> <td>   22.541</td> <td> 0.000</td> <td>    1.131</td> <td>    1.347</td>\n",
       "</tr>\n",
       "<tr>\n",
       "  <th>education</th> <td>    0.0786</td> <td>    0.004</td> <td>   18.440</td> <td> 0.000</td> <td>    0.070</td> <td>    0.087</td>\n",
       "</tr>\n",
       "</table>\n",
       "<table class=\"simpletable\">\n",
       "<tr>\n",
       "  <th>Omnibus:</th>       <td>46.662</td> <th>  Durbin-Watson:     </th> <td>   1.769</td>\n",
       "</tr>\n",
       "<tr>\n",
       "  <th>Prob(Omnibus):</th> <td> 0.000</td> <th>  Jarque-Bera (JB):  </th> <td>  59.725</td>\n",
       "</tr>\n",
       "<tr>\n",
       "  <th>Skew:</th>          <td>-0.269</td> <th>  Prob(JB):          </th> <td>1.07e-13</td>\n",
       "</tr>\n",
       "<tr>\n",
       "  <th>Kurtosis:</th>      <td> 3.606</td> <th>  Cond. No.          </th> <td>    82.4</td>\n",
       "</tr>\n",
       "</table>"
      ],
      "text/plain": [
       "<class 'statsmodels.iolib.summary.Summary'>\n",
       "\"\"\"\n",
       "                            OLS Regression Results                            \n",
       "==============================================================================\n",
       "Dep. Variable:                logwage   R-squared:                       0.135\n",
       "Model:                            OLS   Adj. R-squared:                  0.135\n",
       "Method:                 Least Squares   F-statistic:                     340.0\n",
       "Date:                Sat, 06 Jan 2018   Prob (F-statistic):           1.15e-70\n",
       "Time:                        20:21:52   Log-Likelihood:                -1114.3\n",
       "No. Observations:                2178   AIC:                             2233.\n",
       "Df Residuals:                    2176   BIC:                             2244.\n",
       "Df Model:                           1                                         \n",
       "Covariance Type:            nonrobust                                         \n",
       "==============================================================================\n",
       "                 coef    std err          t      P>|t|      [0.025      0.975]\n",
       "------------------------------------------------------------------------------\n",
       "Intercept      1.2392      0.055     22.541      0.000       1.131       1.347\n",
       "education      0.0786      0.004     18.440      0.000       0.070       0.087\n",
       "==============================================================================\n",
       "Omnibus:                       46.662   Durbin-Watson:                   1.769\n",
       "Prob(Omnibus):                  0.000   Jarque-Bera (JB):               59.725\n",
       "Skew:                          -0.269   Prob(JB):                     1.07e-13\n",
       "Kurtosis:                       3.606   Cond. No.                         82.4\n",
       "==============================================================================\n",
       "\n",
       "Warnings:\n",
       "[1] Standard Errors assume that the covariance matrix of the errors is correctly specified.\n",
       "\"\"\""
      ]
     },
     "execution_count": 12,
     "metadata": {},
     "output_type": "execute_result"
    }
   ],
   "source": [
    "wageslm.summary()"
   ]
  },
  {
   "cell_type": "markdown",
   "metadata": {},
   "source": [
    "In other words, for simple linear regression that `F-statistic` is\n",
    "$$\n",
    "F = \\frac{(n-2) \\cdot R^2}{1-R^2}\n",
    "$$\n",
    "where $n-2$ is `wageslm.df_resid`."
   ]
  },
  {
   "cell_type": "code",
   "execution_count": 13,
   "metadata": {
    "scrolled": true
   },
   "outputs": [
    {
     "data": {
      "text/plain": [
       "339.8977916522141"
      ]
     },
     "execution_count": 13,
     "metadata": {},
     "output_type": "execute_result"
    }
   ],
   "source": [
    "2176*0.1351 / (1 - 0.1351)"
   ]
  },
  {
   "cell_type": "markdown",
   "metadata": {},
   "source": [
    "Finally, $R=\\sqrt{R^2}$ is called the (absolute) *correlation coefficient* because it is equal to the absolute value of sample correlation coefficient of $X$ and $Y$."
   ]
  },
  {
   "cell_type": "code",
   "execution_count": 14,
   "metadata": {},
   "outputs": [
    {
     "data": {
      "text/html": [
       "<div>\n",
       "<style>\n",
       "    .dataframe thead tr:only-child th {\n",
       "        text-align: right;\n",
       "    }\n",
       "\n",
       "    .dataframe thead th {\n",
       "        text-align: left;\n",
       "    }\n",
       "\n",
       "    .dataframe tbody tr th {\n",
       "        vertical-align: top;\n",
       "    }\n",
       "</style>\n",
       "<table border=\"1\" class=\"dataframe\">\n",
       "  <thead>\n",
       "    <tr style=\"text-align: right;\">\n",
       "      <th></th>\n",
       "      <th>education</th>\n",
       "      <th>logwage</th>\n",
       "    </tr>\n",
       "  </thead>\n",
       "  <tbody>\n",
       "    <tr>\n",
       "      <th>education</th>\n",
       "      <td>1.000000</td>\n",
       "      <td>0.367621</td>\n",
       "    </tr>\n",
       "    <tr>\n",
       "      <th>logwage</th>\n",
       "      <td>0.367621</td>\n",
       "      <td>1.000000</td>\n",
       "    </tr>\n",
       "  </tbody>\n",
       "</table>\n",
       "</div>"
      ],
      "text/plain": [
       "           education   logwage\n",
       "education   1.000000  0.367621\n",
       "logwage     0.367621  1.000000"
      ]
     },
     "execution_count": 14,
     "metadata": {},
     "output_type": "execute_result"
    }
   ],
   "source": [
    "wages.corr()"
   ]
  },
  {
   "cell_type": "code",
   "execution_count": 15,
   "metadata": {},
   "outputs": [
    {
     "data": {
      "text/plain": [
       "0.13514519964099997"
      ]
     },
     "execution_count": 15,
     "metadata": {},
     "output_type": "execute_result"
    }
   ],
   "source": [
    "0.367621**2"
   ]
  },
  {
   "cell_type": "markdown",
   "metadata": {},
   "source": [
    "## $F$-statistics\n",
    "\n",
    "After a $t$-statistic, the next most commonly encountered statistic is a $\\chi^2$ statistic, or its closely related cousin,\n",
    "the $F$ statistic.\n",
    "\n",
    "* Roughly speaking, an $F$-statistic is a ratio of *sample variances*: it has a numerator, $N$, \n",
    " and a denominator, $D$ that are independent.\n",
    " \n",
    " *  Let $$N \\sim \\frac{\\chi^2_{\\rm num} }{ df_{{\\rm num}}}, \\qquad D \\sim \\frac{\\chi^2_{\\rm den} }{ df_{{\\rm den}}}$$\n",
    " and define\n",
    " $$\n",
    " F = \\frac{N}{D}.\n",
    " $$\n",
    " \n",
    " * We say $F$ has an $F$ distribution with parameters $df_{{\\rm num}}, df_{{\\rm den}}$ and write $F \\sim F_{df_{{\\rm num}}, df_{{\\rm den}}}$\n"
   ]
  },
  {
   "cell_type": "markdown",
   "metadata": {},
   "source": [
    "### $F$ statistic for simple linear regression\n",
    "\n",
    "\n",
    "* The ratio $$\n",
    "   F=\\frac{SSR/1}{SSE/(n-2)} = \\frac{MSR}{MSE}$$\n",
    "   can be thought of as a *ratio of \"variances\"*.\n",
    "\n",
    "* In fact, under $H_0:\\beta_1=0$, $$\n",
    "   F \\sim F_{1, n-2}\n",
    "   $$\n",
    "because $$\n",
    "   \\begin{aligned}\n",
    "   SSR &= \\|\\hat{Y} - \\bar{Y} \\cdot 1\\|^2 \\\\\n",
    "   SSE &= \\|Y - \\hat{Y}\\|^2\n",
    "   \\end{aligned}\n",
    "   $$\n",
    "   and from our picture, these vectors are orthogonal.\n",
    "   \n",
    "* The null hypothesis $H_0:\\beta_1=0$ implies that $SSR \\sim \\chi^2_1 \\cdot \\sigma^2$."
   ]
  },
  {
   "cell_type": "markdown",
   "metadata": {},
   "source": [
    "### Relation between $F$ and $t$ statistics.\n",
    "\n",
    "* If $T \\sim t_{\\nu}$, then\n",
    "   $$\n",
    "   T^2 \\sim \\frac{N(0,1)^2}{\\chi^2_{\\nu}/\\nu} \\sim \\frac{\\chi^2_1/1}{\\chi^2_{\\nu}/\\nu}.$$\n",
    "\n",
    "* In other words, the square of a $t$-statistic is an $F$-statistic.\n",
    "   Because it is always positive, an $F$-statistic has no *direction* associated with it.\n",
    " \n",
    "* In fact \n",
    "   $$\n",
    "   F = \\frac{MSR}{MSE} = \\frac{\\widehat{\\beta}_1^2}{SE(\\widehat{\\beta}_1)^2}.$$\n",
    "Let's check this in our example."
   ]
  },
  {
   "cell_type": "code",
   "execution_count": 16,
   "metadata": {
    "scrolled": false
   },
   "outputs": [
    {
     "data": {
      "text/html": [
       "<table class=\"simpletable\">\n",
       "<caption>OLS Regression Results</caption>\n",
       "<tr>\n",
       "  <th>Dep. Variable:</th>         <td>logwage</td>     <th>  R-squared:         </th> <td>   0.135</td>\n",
       "</tr>\n",
       "<tr>\n",
       "  <th>Model:</th>                   <td>OLS</td>       <th>  Adj. R-squared:    </th> <td>   0.135</td>\n",
       "</tr>\n",
       "<tr>\n",
       "  <th>Method:</th>             <td>Least Squares</td>  <th>  F-statistic:       </th> <td>   340.0</td>\n",
       "</tr>\n",
       "<tr>\n",
       "  <th>Date:</th>             <td>Sat, 06 Jan 2018</td> <th>  Prob (F-statistic):</th> <td>1.15e-70</td>\n",
       "</tr>\n",
       "<tr>\n",
       "  <th>Time:</th>                 <td>20:24:09</td>     <th>  Log-Likelihood:    </th> <td> -1114.3</td>\n",
       "</tr>\n",
       "<tr>\n",
       "  <th>No. Observations:</th>      <td>  2178</td>      <th>  AIC:               </th> <td>   2233.</td>\n",
       "</tr>\n",
       "<tr>\n",
       "  <th>Df Residuals:</th>          <td>  2176</td>      <th>  BIC:               </th> <td>   2244.</td>\n",
       "</tr>\n",
       "<tr>\n",
       "  <th>Df Model:</th>              <td>     1</td>      <th>                     </th>     <td> </td>   \n",
       "</tr>\n",
       "<tr>\n",
       "  <th>Covariance Type:</th>      <td>nonrobust</td>    <th>                     </th>     <td> </td>   \n",
       "</tr>\n",
       "</table>\n",
       "<table class=\"simpletable\">\n",
       "<tr>\n",
       "      <td></td>         <th>coef</th>     <th>std err</th>      <th>t</th>      <th>P>|t|</th>  <th>[0.025</th>    <th>0.975]</th>  \n",
       "</tr>\n",
       "<tr>\n",
       "  <th>Intercept</th> <td>    1.2392</td> <td>    0.055</td> <td>   22.541</td> <td> 0.000</td> <td>    1.131</td> <td>    1.347</td>\n",
       "</tr>\n",
       "<tr>\n",
       "  <th>education</th> <td>    0.0786</td> <td>    0.004</td> <td>   18.440</td> <td> 0.000</td> <td>    0.070</td> <td>    0.087</td>\n",
       "</tr>\n",
       "</table>\n",
       "<table class=\"simpletable\">\n",
       "<tr>\n",
       "  <th>Omnibus:</th>       <td>46.662</td> <th>  Durbin-Watson:     </th> <td>   1.769</td>\n",
       "</tr>\n",
       "<tr>\n",
       "  <th>Prob(Omnibus):</th> <td> 0.000</td> <th>  Jarque-Bera (JB):  </th> <td>  59.725</td>\n",
       "</tr>\n",
       "<tr>\n",
       "  <th>Skew:</th>          <td>-0.269</td> <th>  Prob(JB):          </th> <td>1.07e-13</td>\n",
       "</tr>\n",
       "<tr>\n",
       "  <th>Kurtosis:</th>      <td> 3.606</td> <th>  Cond. No.          </th> <td>    82.4</td>\n",
       "</tr>\n",
       "</table>"
      ],
      "text/plain": [
       "<class 'statsmodels.iolib.summary.Summary'>\n",
       "\"\"\"\n",
       "                            OLS Regression Results                            \n",
       "==============================================================================\n",
       "Dep. Variable:                logwage   R-squared:                       0.135\n",
       "Model:                            OLS   Adj. R-squared:                  0.135\n",
       "Method:                 Least Squares   F-statistic:                     340.0\n",
       "Date:                Sat, 06 Jan 2018   Prob (F-statistic):           1.15e-70\n",
       "Time:                        20:24:09   Log-Likelihood:                -1114.3\n",
       "No. Observations:                2178   AIC:                             2233.\n",
       "Df Residuals:                    2176   BIC:                             2244.\n",
       "Df Model:                           1                                         \n",
       "Covariance Type:            nonrobust                                         \n",
       "==============================================================================\n",
       "                 coef    std err          t      P>|t|      [0.025      0.975]\n",
       "------------------------------------------------------------------------------\n",
       "Intercept      1.2392      0.055     22.541      0.000       1.131       1.347\n",
       "education      0.0786      0.004     18.440      0.000       0.070       0.087\n",
       "==============================================================================\n",
       "Omnibus:                       46.662   Durbin-Watson:                   1.769\n",
       "Prob(Omnibus):                  0.000   Jarque-Bera (JB):               59.725\n",
       "Skew:                          -0.269   Prob(JB):                     1.07e-13\n",
       "Kurtosis:                       3.606   Cond. No.                         82.4\n",
       "==============================================================================\n",
       "\n",
       "Warnings:\n",
       "[1] Standard Errors assume that the covariance matrix of the errors is correctly specified.\n",
       "\"\"\""
      ]
     },
     "execution_count": 16,
     "metadata": {},
     "output_type": "execute_result"
    }
   ],
   "source": [
    "wageslm.summary()"
   ]
  },
  {
   "cell_type": "markdown",
   "metadata": {},
   "source": [
    "The *$t$--statistic* for *education* is the $t$-statistic for the parameter $\\beta_1$ under $H_0:\\beta_1=0$. Its value\n",
    "is 18.440 above. If we square it, we should get about the same as the *$F$-statistic*."
   ]
  },
  {
   "cell_type": "code",
   "execution_count": 17,
   "metadata": {
    "scrolled": true
   },
   "outputs": [
    {
     "data": {
      "text/plain": [
       "340.03360000000004"
      ]
     },
     "execution_count": 17,
     "metadata": {},
     "output_type": "execute_result"
    }
   ],
   "source": [
    "18.44**2"
   ]
  },
  {
   "cell_type": "markdown",
   "metadata": {},
   "source": [
    "### Interpretation of an $F$-statistic\n",
    "\n",
    "* In regression, the numerator is usually a difference in *goodness of fit* of two  (nested) models.\n",
    "\n",
    "* The denominator is $\\hat{\\sigma}^2$ -- an estimate of $\\sigma^2$.\n",
    "\n",
    "* In our example today: the bigger model is the simple linear regression model, the smaller is the model\n",
    " with constant mean (one sample model).\n",
    "\n",
    "* If the $F$ is large, it says that the *bigger*  model explains a lot more variability in $Y$  (relative to $\\sigma^2$) than the smaller one."
   ]
  },
  {
   "cell_type": "markdown",
   "metadata": {},
   "source": [
    "### Interpretation of an $F$-statistic\n",
    "\n",
    "<img src=\"http://stats191.stanford.edu/figs/axes_simple.svg\" width=\"600\"> \n",
    "\n",
    "* If the null hypothesis is true, $\\hat{Y}$ will be close to $\\bar{Y} \\cdot 1$. \n",
    "\n",
    "* How close? We must compare to the size of the noise, i.e. $\\sigma^2$.\n",
    "\n",
    "* Not knowing $\\sigma^2$, we substitute our estimate $\\hat{\\sigma}^2$."
   ]
  },
  {
   "cell_type": "markdown",
   "metadata": {},
   "source": [
    "### The $F$-statistic for simple linear regression revisited\n",
    "\n",
    "The $F$ statistic should compare two models. What are these models?\n",
    "\n",
    "* The *full model* would be\n",
    "$$\n",
    "(FM) \\qquad  Y_i = \\beta_0 + \\beta_1 X_i + \\varepsilon_i \n",
    "$$\n",
    "\n",
    "* The *reduced model* would be\n",
    "$$\n",
    "(RM) \\qquad  Y_i = \\beta_0 + \\varepsilon_i \n",
    "$$\n",
    "\n",
    "* The $F$-statistic then has the form\n",
    "$$\n",
    "F=\\frac{(SSE(RM) - SSE(FM)) / (df_{RM} - df_{FM})}{SSE(FM) / df_{FM}}\n",
    "$$"
   ]
  },
  {
   "cell_type": "markdown",
   "metadata": {},
   "source": [
    "### The $F$-statistic for simple linear regression revisited\n",
    "\n",
    "* The *null hypothesis* is \n",
    "$$\n",
    "H_0: \\text{model (RM) is correct}.\n",
    "$$\n",
    "\n",
    "* The usual $\\alpha$ rejection rule would be to reject $H_0$ if the $F_{\\text{obs}}$ the  observed $F$ statistic is greater than\n",
    "$F_{1,n-2,1-\\alpha}$. \n",
    "\n",
    "* In our case, the observed $F$ was 340, $n-2=2176$ and the appropriate threshold is computed below to be 3.85. Therefore, we strongly\n",
    "reject $H_0$."
   ]
  },
  {
   "cell_type": "code",
   "execution_count": 19,
   "metadata": {},
   "outputs": [
    {
     "data": {
      "text/plain": [
       "3.8457358464718414"
      ]
     },
     "execution_count": 19,
     "metadata": {},
     "output_type": "execute_result"
    }
   ],
   "source": [
    "sp.stats.f.ppf(0.95, 1, 2176)"
   ]
  },
  {
   "cell_type": "markdown",
   "metadata": {},
   "source": [
    "## Diagnostics for simple linear regression\n",
    "\n",
    "While we have used a particular model for our data, it may not be correct. It is important that we have some tools that help us determine whether or model is reasonable or not."
   ]
  },
  {
   "cell_type": "markdown",
   "metadata": {},
   "source": [
    "### What can go wrong?\n",
    "\n",
    "* Using a linear regression function can be wrong: maybe regression function should be quadratic.\n",
    "\n",
    "* We assumed independent Gaussian errors with the same variance. This may be incorrect.\n",
    "    - The errors may not be normally distributed.\n",
    "    - The errors may not be independent.\n",
    "    - The errors may not have the same variance.\n",
    "    \n",
    "    \n",
    "* Detecting problems is more *art* then *science*, i.e.\n",
    "   we cannot *test* for all possible problems in a regression model.\n",
    "   \n",
    "The basic idea of most diagnostic measures is the following. *If the model is correct then\n",
    "   residuals $e_i = Y_i -\\widehat{Y}_i, 1 \\leq i \\leq n$ should look like a sample of\n",
    "   (not quite independent) $N(0, \\sigma^2)$ random variables.*"
   ]
  },
  {
   "cell_type": "markdown",
   "metadata": {},
   "source": [
    "### A poorly fitting model\n",
    "\n",
    "Here is an example of a poorly fitting model. It will turn out that there is a simple fix for this dataset: a model that\n",
    "includes a quadratic term for $X$ will turn out to have a much better fit. Finding this\n",
    "fix in practice can be difficult.\n"
   ]
  },
  {
   "cell_type": "code",
   "execution_count": 117,
   "metadata": {
    "scrolled": false
   },
   "outputs": [
    {
     "data": {
      "image/png": "[encoded data removed]",
      "text/plain": [
       "<matplotlib.figure.Figure at 0xeb53eb8>"
      ]
     },
     "metadata": {},
     "output_type": "display_data"
    }
   ],
   "source": [
    "anscombe=pd.read_table(r'.\\data\\04_anscombe.txt')\n",
    "\n",
    "anscombe=anscombe.sort_values('X2')\n",
    "anscombe=anscombe.reset_index(drop=True)\n",
    "\n",
    "y = anscombe.Y2 + sp.random.normal(size = anscombe.Y2.size) * 0.45\n",
    "x = anscombe.X2\n",
    "\n",
    "plt.scatter(x, y, marker='o',label='data')\n",
    "plt.gca().set_xlabel('X')\n",
    "plt.gca().set_ylabel('Y')\n",
    "\n",
    "cx=sm.add_constant(x)\n",
    "linear_lm = sm.OLS(y,cx).fit()\n",
    "ypred = linear_lm.predict()\n",
    "\n",
    "plt.plot(x,ypred, color = 'red',label='fit')\n",
    "plt.legend()\n",
    "plt.show()"
   ]
  },
  {
   "cell_type": "markdown",
   "metadata": {},
   "source": [
    "Let's take a look at the residuals from this model. Patterns in these residual plots may suggest something like a quadratic effect is missing, but they can also suggest some sort of serial dependence in the random errors. We will discuss this later, when we discuss correlated-errors."
   ]
  },
  {
   "cell_type": "code",
   "execution_count": 77,
   "metadata": {
    "scrolled": true
   },
   "outputs": [
    {
     "data": {
      "image/png": "[encoded data removed]",
      "text/plain": [
       "<matplotlib.figure.Figure at 0xd399668>"
      ]
     },
     "metadata": {},
     "output_type": "display_data"
    }
   ],
   "source": [
    "plt.scatter(x, linear_lm.resid, marker='o',label='data')\n",
    "plt.axhline(0,color='red')\n",
    "\n",
    "plt.gca().set_ylabel('Residual')\n",
    "plt.gca().set_xlabel('X')\n",
    "\n",
    "plt.show()"
   ]
  },
  {
   "cell_type": "markdown",
   "metadata": {},
   "source": [
    "We will add a quadratic term to our model. This is our first example of a *multiple linear regression model*."
   ]
  },
  {
   "cell_type": "code",
   "execution_count": 116,
   "metadata": {},
   "outputs": [
    {
     "data": {
      "image/png": "[encoded data removed]",
      "text/plain": [
       "<matplotlib.figure.Figure at 0xeaec3c8>"
      ]
     },
     "metadata": {},
     "output_type": "display_data"
    }
   ],
   "source": [
    "plt.scatter(x, y, marker='o',label='data')\n",
    "plt.gca().set_xlabel('X')\n",
    "plt.gca().set_ylabel('Y')\n",
    "\n",
    "cxx2=sm.add_constant(x)\n",
    "cxx2['X2^2']=cxx2.X2**2\n",
    "\n",
    "quadratic_lm = sm.OLS(y,cxx2).fit()\n",
    "ypred = lm.predict()\n",
    "\n",
    "plt.plot(x,ypred, color = 'red',label='fit')\n",
    "plt.legend()\n",
    "plt.show()"
   ]
  },
  {
   "cell_type": "markdown",
   "metadata": {},
   "source": [
    "The residuals of the quadratic model have no apparent pattern in them, suggesting this is a better fit than the simple linear regression model."
   ]
  },
  {
   "cell_type": "code",
   "execution_count": 79,
   "metadata": {
    "scrolled": true
   },
   "outputs": [
    {
     "data": {
      "image/png": "[encoded data removed]",
      "text/plain": [
       "<matplotlib.figure.Figure at 0xd2cb860>"
      ]
     },
     "metadata": {},
     "output_type": "display_data"
    }
   ],
   "source": [
    "plt.scatter(x, quadratic_lm.resid, marker='o',label='data')\n",
    "plt.axhline(0,color='red')\n",
    "\n",
    "plt.gca().set_ylabel('Residual')\n",
    "plt.gca().set_xlabel('X')\n",
    "\n",
    "plt.show()"
   ]
  },
  {
   "cell_type": "markdown",
   "metadata": {},
   "source": [
    "### Assessing normality of errors\n",
    "\n",
    "Another common diagnostic plot is the *qqplot* where *qq* stands for *Quantile-Quantile*. Roughly speaking, a qqplot is designed to see if the quantiles of two distributions match. \n",
    "\n",
    "* The function *qqnorm* can be used to ascertain if a sample of numbers are roughly normally distributed. If the points lie on the diagonal line, this is evidence that the sample is normally distributed. Various departures from the diagonal indicate skewness, asymmetry, etc.\n",
    "\n",
    "* If $e_i, 1\\leq i \\leq n$ were really a sample of\n",
    "$N(0, \\sigma^2)$ then their sample quantiles should be close to the\n",
    "sample quantiles of the $N(0, \\sigma^2)$ distribution.\n",
    "\n",
    "The $qqnorm$ plot is a plot of\n",
    "   $$\n",
    "   e_{(i)}  \\ {\\rm vs.} \\  \\mathbb{E}(\\varepsilon_{(i)}), \\qquad 1 \\leq i \\leq n.$$\n",
    "   where $e_{(i)}$ is the $i$-th smallest residual (order statistic) and\n",
    "   $\\mathbb{E}(\\varepsilon_{(i)})$ is the expected value for independent $\\varepsilon_i$'s $\\sim N(0,\\sigma^2)$."
   ]
  },
  {
   "cell_type": "code",
   "execution_count": 90,
   "metadata": {
    "scrolled": true
   },
   "outputs": [
    {
     "data": {
      "image/png": "[encoded data removed]",
      "text/plain": [
       "<matplotlib.figure.Figure at 0xd7a9048>"
      ]
     },
     "metadata": {},
     "output_type": "display_data"
    }
   ],
   "source": [
    "fig, axs = plt.subplots(1,2)\n",
    "fig.set_figwidth(10)\n",
    "\n",
    "sp.stats.probplot(linear_lm.resid,    plot=axs[0])\n",
    "sp.stats.probplot(quadratic_lm.resid, plot=axs[1])\n",
    "\n",
    "axs[0].set_title(axs[0].get_title() + ': linear' )\n",
    "axs[1].set_title(axs[1].get_title() + ': quadratic' )\n",
    "\n",
    "plt.show()"
   ]
  },
  {
   "cell_type": "markdown",
   "metadata": {},
   "source": [
    "In these two examples, the qqplot does not seem vastly different, even though we know the simple model is incorrect in this case. This indicates that several diagnostic tools should be used in assessing a model."
   ]
  },
  {
   "cell_type": "markdown",
   "metadata": {},
   "source": [
    "### Assessing constant variance assumption\n",
    "\n",
    "One plot that is sometimes used to determine whether the variance is constant or not is a plot of \n",
    "$X$ against $e=Y-\\hat{Y}$. If there is a pattern to the spread in this plot, it may indicate that the variance\n",
    "changes as a function of $X$. In our earlier plots, we noticed a trend in this plot, not necessarily\n",
    "evidence of changing variance.\n",
    "\n",
    "The dataset below, taken from some work done with Dr. Robert Shafer at Stanford http://hivdb.stanford.edu, plots HIV virus load against a score related to the the genetic makeup of a patientâ€™s virus shows clear non-constant variance. It also provides a clear example of an outlier, or a point that is a clear departure from the model."
   ]
  },
  {
   "cell_type": "code",
   "execution_count": 130,
   "metadata": {
    "scrolled": true
   },
   "outputs": [
    {
     "data": {
      "image/png": "[encoded data removed]",
      "text/plain": [
       "<matplotlib.figure.Figure at 0xeb965c0>"
      ]
     },
     "metadata": {},
     "output_type": "display_data"
    }
   ],
   "source": [
    "#url = 'http://stats191.stanford.edu/data/HIV.VL.table'\n",
    "localpth = r'.\\data\\04_HIV_VL.txt'\n",
    "viral=pd.read_table(localpth,sep=' ')\n",
    "\n",
    "viral_lm = smf.ols('VL ~ GSS',data=viral).fit()\n",
    "\n",
    "ax=viral.plot.scatter(x='GSS',y='VL',label='data')\n",
    "ax.plot(viral.GSS, viral_lm.predict(),color='red',label='fit')\n",
    "\n",
    "ax.legend()\n",
    "plt.show()"
   ]
  },
  {
   "cell_type": "code",
   "execution_count": 131,
   "metadata": {
    "scrolled": true
   },
   "outputs": [
    {
     "data": {
      "image/png": "[encoded data removed]",
      "text/plain": [
       "<matplotlib.figure.Figure at 0xd000fd0>"
      ]
     },
     "metadata": {},
     "output_type": "display_data"
    }
   ],
   "source": [
    "good_idx = viral.VL < 200000\n",
    "viral_good_lm = smf.ols('VL ~ GSS',data=viral[good_idx]).fit()\n",
    "\n",
    "ax=viral.plot.scatter(x='GSS',y='VL',label='data')\n",
    "ax.plot(viral.GSS[good_idx], viral_good_lm.predict(),color='red',label='fit')\n",
    "\n",
    "ax.legend()\n",
    "plt.show()"
   ]
  },
  {
   "cell_type": "markdown",
   "metadata": {},
   "source": [
    "When we plot the residuals against the fitted values for this model (even with the outlier removed) we see that the variance\n",
    "clearly depends on $GSS$. They also do not seem symmetric around 0 so perhaps the Gaussian model is not appropriate."
   ]
  },
  {
   "cell_type": "code",
   "execution_count": 133,
   "metadata": {},
   "outputs": [
    {
     "data": {
      "image/png": "[encoded data removed]",
      "text/plain": [
       "<matplotlib.figure.Figure at 0xebd5cc0>"
      ]
     },
     "metadata": {},
     "output_type": "display_data"
    }
   ],
   "source": [
    "plt.scatter(viral.GSS[good_idx], viral_good_lm.resid)\n",
    "plt.axhline(0,color='red')\n",
    "\n",
    "ax.legend()\n",
    "plt.show()"
   ]
  },
  {
   "cell_type": "markdown",
   "metadata": {},
   "source": [
    "### Outliers\n",
    "\n",
    "Outliers can be obvious to spot (or not) but very difficult to define rigorously.\n",
    "Roughly speaking, they points where the model really does not fit.\n",
    "\n",
    "They might correspond to mistakes in data transcription, lab \n",
    "errors, who knows? If possible, they should be identified and (hopefully) explained."
   ]
  }
 ],
 "metadata": {
  "kernelspec": {
   "display_name": "Python 3",
   "language": "python",
   "name": "python3"
  },
  "language_info": {
   "codemirror_mode": {
    "name": "ipython",
    "version": 3
   },
   "file_extension": ".py",
   "mimetype": "text/x-python",
   "name": "python",
   "nbconvert_exporter": "python",
   "pygments_lexer": "ipython3",
   "version": "3.6.1"
  }
 },
 "nbformat": 4,
 "nbformat_minor": 2
}
